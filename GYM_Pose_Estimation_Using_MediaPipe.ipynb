{
 "cells": [
  {
   "cell_type": "code",
   "execution_count": 1,
   "id": "843e042f",
   "metadata": {},
   "outputs": [],
   "source": [
    "import cv2\n",
    "import mediapipe as mp\n",
    "import numpy as np"
   ]
  },
  {
   "cell_type": "code",
   "execution_count": 2,
   "id": "4e18c62a",
   "metadata": {},
   "outputs": [],
   "source": [
    "mp_drawing= mp.solutions.drawing_utils\n",
    "mp_pose= mp.solutions.pose\n",
    "mp_drawing_styles = mp.solutions.drawing_styles\n"
   ]
  },
  {
   "cell_type": "code",
   "execution_count": 3,
   "id": "a1336cb0",
   "metadata": {},
   "outputs": [],
   "source": [
    "def calculte_angle(a,b,c):\n",
    "    \"\"\"\n",
    "    This Function calculates the angle between 3 landmarks.\n",
    "    \"\"\"\n",
    "    a= np.array(a)\n",
    "    b= np.array(b)\n",
    "    c= np.array(c)\n",
    "    radians= np.arctan2(a[1]-b[1],a[0]-b[0]) - np.arctan2(c[1]-b[1],c[0]-b[0])\n",
    "    deg= np.abs(np.degrees(radians))\n",
    "    if deg >180:\n",
    "        deg = 360- deg\n",
    "    return np.round(deg,2)"
   ]
  },
  {
   "cell_type": "code",
   "execution_count": 6,
   "id": "9030e281",
   "metadata": {},
   "outputs": [],
   "source": [
    "cap = cv2.VideoCapture(0)\n",
    "counter_l = 0\n",
    "stage_l= None\n",
    "counter_r = 0\n",
    "stage_r= None\n",
    "#Mediapipe Instance:\n",
    "with mp_pose.Pose(min_tracking_confidence=0.5,min_detection_confidence=0.5) as pose:\n",
    "    while cap.isOpened():\n",
    "        ret, image = cap.read()\n",
    "        image.flags.writeable = False\n",
    "        # Recolor image to RGB:\n",
    "        image = cv2.cvtColor(image,cv2.COLOR_BGR2RGB)\n",
    "        # Processing the image:\n",
    "        results= pose.process(image)\n",
    "        # Draw the pose annotation on the image.\n",
    "        image.flags.writeable = True\n",
    "        image = cv2.cvtColor(image, cv2.COLOR_RGB2BGR)\n",
    "        #Extract Landmarks:\n",
    "        try:\n",
    "            landmarks= results.pose_landmarks.landmark\n",
    "            #Get coordinates:\n",
    "            shoulder_l= [landmarks[mp_pose.PoseLandmark.LEFT_SHOULDER].x, landmarks[mp_pose.PoseLandmark.LEFT_SHOULDER].y]\n",
    "            elbow_l= [landmarks[mp_pose.PoseLandmark.LEFT_ELBOW].x, landmarks[mp_pose.PoseLandmark.LEFT_ELBOW].y]\n",
    "            wrist_l= [landmarks[mp_pose.PoseLandmark.LEFT_WRIST].x, landmarks[mp_pose.PoseLandmark.LEFT_WRIST].y]\n",
    "            shoulder_r= [landmarks[mp_pose.PoseLandmark.RIGHT_SHOULDER].x, landmarks[mp_pose.PoseLandmark.RIGHT_SHOULDER].y]\n",
    "            elbow_r= [landmarks[mp_pose.PoseLandmark.RIGHT_ELBOW].x, landmarks[mp_pose.PoseLandmark.RIGHT_ELBOW].y]\n",
    "            wrist_r= [landmarks[mp_pose.PoseLandmark.RIGHT_WRIST].x, landmarks[mp_pose.PoseLandmark.RIGHT_WRIST].y]\n",
    "            # Get the angle:\n",
    "            angle_l= calculte_angle(shoulder_l,elbow_l,wrist_l)\n",
    "            angle_r= calculte_angle(shoulder_r,elbow_r,wrist_r)\n",
    "            # Visualize angle:\n",
    "            #cv2.putText(image, str(angle),tuple(np.multiply(elbow, [640,480]).astype(int)),cv2.FONT_HERSHEY_SIMPLEX, 0.5, (255,255,255) , 2, cv2.LINE_AA)\n",
    "            # Curl Counter Logic:\n",
    "            if angle_l > 160:\n",
    "                stage_l= \"Down\"\n",
    "            if angle_l < 45 and stage_l== \"Down\":\n",
    "                stage_l =\"Up\"\n",
    "                counter_l+=1\n",
    "                \n",
    "            if angle_r > 160:\n",
    "                stage_r= \"Down\"\n",
    "            if angle_r < 45 and stage_r== \"Down\":\n",
    "                stage_r =\"Up\"\n",
    "                counter_r+=1\n",
    "            # Status Box:\n",
    "            cv2.rectangle(image, (0,0),(235, 75),(245,117,0),-1)\n",
    "            cv2.putText(image, \"Right Hand Counter\",(80,60),cv2.FONT_HERSHEY_SIMPLEX, 0.4, (255,255,255) , 2, cv2.LINE_AA )\n",
    "            cv2.putText(image, str(counter_r),(10,60),cv2.FONT_HERSHEY_SIMPLEX, 2, (255,255,255) , 2, cv2.LINE_AA )\n",
    "            \n",
    "            cv2.rectangle(image, (400,0),(635, 75),(245,117,0),-1)\n",
    "            cv2.putText(image, \"Left Hand Counter\",(420,60),cv2.FONT_HERSHEY_SIMPLEX, 0.4, (255,255,255) , 2, cv2.LINE_AA )\n",
    "            cv2.putText(image, str(counter_l),(580,60),cv2.FONT_HERSHEY_SIMPLEX, 2, (255,255,255) , 2, cv2.LINE_AA )\n",
    "        except:\n",
    "            pass\n",
    "\n",
    "        mp_drawing.draw_landmarks(image,results.pose_landmarks,mp_pose.POSE_CONNECTIONS,\n",
    "                                  landmark_drawing_spec=mp_drawing_styles.get_default_pose_landmarks_style()) \n",
    "        # Flip the image horizontally for a selfie-view display.\n",
    "        cv2.imshow('Pose Estimation', image)\n",
    "        #Press esc key on keyboard to exit:\n",
    "        if cv2.waitKey(5) & 0xFF == 27:\n",
    "            break\n",
    "cap.release()\n",
    "cv2.destroyAllWindows()"
   ]
  },
  {
   "cell_type": "code",
   "execution_count": null,
   "id": "674dd82e",
   "metadata": {},
   "outputs": [],
   "source": []
  }
 ],
 "metadata": {
  "kernelspec": {
   "display_name": "Python 3 (ipykernel)",
   "language": "python",
   "name": "python3"
  },
  "language_info": {
   "codemirror_mode": {
    "name": "ipython",
    "version": 3
   },
   "file_extension": ".py",
   "mimetype": "text/x-python",
   "name": "python",
   "nbconvert_exporter": "python",
   "pygments_lexer": "ipython3",
   "version": "3.9.9"
  }
 },
 "nbformat": 4,
 "nbformat_minor": 5
}
